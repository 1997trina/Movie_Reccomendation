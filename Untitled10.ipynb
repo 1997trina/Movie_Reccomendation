{
 "cells": [
  {
   "cell_type": "code",
   "execution_count": 1,
   "metadata": {},
   "outputs": [
    {
     "name": "stdout",
     "output_type": "stream",
     "text": [
      "Credits Dataframe: (4803, 4)\n",
      "Movies Dataframe: (4803, 20)\n"
     ]
    },
    {
     "data": {
      "text/plain": [
       "(4803, 10417)"
      ]
     },
     "execution_count": 1,
     "metadata": {},
     "output_type": "execute_result"
    }
   ],
   "source": [
    "import pandas as pd\n",
    "import numpy as np\n",
    "credits = pd.read_csv(\"tmdb_5000_credits.csv\")\n",
    "movies_df = pd.read_csv(\"tmdb_5000_movies.csv\")\n",
    "credits.head(7)\n",
    "print(\"Credits Dataframe:\", credits.shape)\n",
    "print(\"Movies Dataframe:\", movies_df.shape)\n",
    "credits_column_renamed = credits.rename(columns ={'movie_id' :'id'}, inplace = False)\n",
    "#rename movie_id in credits table as 'id' and then merge the datasets\n",
    "credits_column_renamed = credits.rename(index=str, columns={\"movie_id\": \"id\"})\n",
    "movies_df_merge = movies_df.merge(credits_column_renamed, on='id')\n",
    "movies_df_merge.head()\n",
    "#Since we do not require information from all the columns\n",
    "movies_cleaned_df = movies_df_merge.drop(columns=['homepage', 'title_x', 'title_y', 'status','production_countries'])\n",
    "movies_cleaned_df.head()\n",
    "movies_cleaned_df.head(1)['overview']\n",
    "\n",
    "\n",
    "from sklearn.feature_extraction.text import TfidfVectorizer\n",
    "   tfv = TfidfVectorizer(min_df=3,  max_features=None, \n",
    "                        strip_accents='unicode', analyzer='word',token_pattern=r'\\w{1,}',  #Removes unncesessary symbols\n",
    "                        ngram_range=(1, 3),      #taking combination of 1-3 different words\n",
    "                        stop_words = 'english')  #Removes unnecessary charecters\n",
    "\n",
    "    movies_cleaned_df['overview'] = movies_cleaned_df['overview'].fillna('')  # Filling NaNs with empty string\n",
    "    tfv_matrix = tfv.fit_transform(movies_cleaned_df['overview'])   # Fitting the TF-IDF on the 'overview' text\n",
    "    tfv_matrix.shape"
   ]
  },
  {
   "cell_type": "code",
   "execution_count": 2,
   "metadata": {},
   "outputs": [
    {
     "data": {
      "text/plain": [
       "original_title\n",
       "Avatar                                         0\n",
       "Pirates of the Caribbean: At World's End       1\n",
       "Spectre                                        2\n",
       "The Dark Knight Rises                          3\n",
       "John Carter                                    4\n",
       "                                            ... \n",
       "El Mariachi                                 4798\n",
       "Newlyweds                                   4799\n",
       "Signed, Sealed, Delivered                   4800\n",
       "Shanghai Calling                            4801\n",
       "My Date with Drew                           4802\n",
       "Length: 4803, dtype: int64"
      ]
     },
     "execution_count": 2,
     "metadata": {},
     "output_type": "execute_result"
    }
   ],
   "source": [
    "from sklearn.metrics.pairwise import sigmoid_kernel\n",
    "\n",
    "# Compute the sigmoid kernel\n",
    "sig = sigmoid_kernel(tfv_matrix, tfv_matrix)\n",
    "# Reverse mapping of indices and movie titles\n",
    "indices = pd.Series(movies_cleaned_df.index, index=movies_cleaned_df['original_title']).drop_duplicates()\n",
    "indices"
   ]
  },
  {
   "cell_type": "code",
   "execution_count": 10,
   "metadata": {},
   "outputs": [
    {
     "data": {
      "text/plain": [
       "4527                      Twin Falls Idaho\n",
       "2196           The Man Who Knew Too Little\n",
       "4510                  Julija in Alfa Romeo\n",
       "2271                             ராமானுஜன்\n",
       "4427                                Charly\n",
       "4331    Rocket Singh: Salesman of the Year\n",
       "2365                        Nine 1/2 Weeks\n",
       "2771                             Admission\n",
       "1793                       In Good Company\n",
       "563                        Doctor Dolittle\n",
       "Name: original_title, dtype: object"
      ]
     },
     "execution_count": 10,
     "metadata": {},
     "output_type": "execute_result"
    }
   ],
   "source": [
    "def give_rec(title, sig=sig):\n",
    "    # Get the index corresponding to original_title\n",
    "    idx = indices[title]\n",
    "\n",
    "    # Get the pairwsie similarity scores \n",
    "    sig_scores = list(enumerate(sig[idx]))   #Provides index for each value\n",
    "\n",
    "    # Sort the movies \n",
    "    sig_scores = sorted(sig_scores, key=lambda x: x[1], reverse=True)\n",
    "\n",
    "    # Scores of the 10 most similar movies\n",
    "    sig_scores = sig_scores[1:11]\n",
    "\n",
    "    # Movie indices\n",
    "    movie_indices = [i[0] for i in sig_scores]\n",
    "\n",
    "    # Top 10 most similar movies\n",
    "    return movies_cleaned_df['original_title'].iloc[movie_indices]\n",
    "\n",
    "# Testing our content-based recommendation system with the seminal film A Beautifuul Mind\n",
    "give_rec('A Beautiful Mind')"
   ]
  },
  {
   "cell_type": "code",
   "execution_count": null,
   "metadata": {},
   "outputs": [],
   "source": []
  }
 ],
 "metadata": {
  "kernelspec": {
   "display_name": "Python 3",
   "language": "python",
   "name": "python3"
  },
  "language_info": {
   "codemirror_mode": {
    "name": "ipython",
    "version": 3
   },
   "file_extension": ".py",
   "mimetype": "text/x-python",
   "name": "python",
   "nbconvert_exporter": "python",
   "pygments_lexer": "ipython3",
   "version": "3.7.6"
  }
 },
 "nbformat": 4,
 "nbformat_minor": 4
}
